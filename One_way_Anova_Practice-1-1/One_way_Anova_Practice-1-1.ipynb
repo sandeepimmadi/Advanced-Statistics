{
 "cells": [
  {
   "cell_type": "markdown",
   "metadata": {},
   "source": [
    "# Case Study \n",
    "## The annual Percentage Rate of Interest Charged on New-Car Loans at Nine of the \t\t\t\t\tLargest Banks in Six American Cities is provided and It is believed that the mean interest rate is same across the six american cities.  Conduct the hypothesis test and provide your inference\n",
    "\n",
    "\n",
    "Use level of significance $\\alpha$ = 0.05"
   ]
  },
  {
   "cell_type": "code",
   "execution_count": 1,
   "metadata": {},
   "outputs": [],
   "source": [
    "import pandas as pd\n",
    "import numpy as np\n",
    "import matplotlib.pyplot as plt\n",
    "import seaborn as sns"
   ]
  },
  {
   "cell_type": "code",
   "execution_count": 2,
   "metadata": {},
   "outputs": [],
   "source": [
    "rate=pd.read_csv('c:\\\\users\\IT\\Downloads\\car_insurance_rate.csv', sep='\\t')"
   ]
  },
  {
   "cell_type": "code",
   "execution_count": 3,
   "metadata": {},
   "outputs": [
    {
     "data": {
      "text/html": [
       "<div>\n",
       "<style scoped>\n",
       "    .dataframe tbody tr th:only-of-type {\n",
       "        vertical-align: middle;\n",
       "    }\n",
       "\n",
       "    .dataframe tbody tr th {\n",
       "        vertical-align: top;\n",
       "    }\n",
       "\n",
       "    .dataframe thead th {\n",
       "        text-align: right;\n",
       "    }\n",
       "</style>\n",
       "<table border=\"1\" class=\"dataframe\">\n",
       "  <thead>\n",
       "    <tr style=\"text-align: right;\">\n",
       "      <th></th>\n",
       "      <th>Atlanta</th>\n",
       "      <th>Chicago</th>\n",
       "      <th>Houston</th>\n",
       "      <th>Memphis</th>\n",
       "      <th>New York</th>\n",
       "      <th>Philadelphia</th>\n",
       "    </tr>\n",
       "  </thead>\n",
       "  <tbody>\n",
       "    <tr>\n",
       "      <th>0</th>\n",
       "      <td>13.75</td>\n",
       "      <td>14.25</td>\n",
       "      <td>14.00</td>\n",
       "      <td>15.00</td>\n",
       "      <td>14.50</td>\n",
       "      <td>13.50</td>\n",
       "    </tr>\n",
       "    <tr>\n",
       "      <th>1</th>\n",
       "      <td>13.75</td>\n",
       "      <td>13.00</td>\n",
       "      <td>14.00</td>\n",
       "      <td>14.00</td>\n",
       "      <td>14.00</td>\n",
       "      <td>12.25</td>\n",
       "    </tr>\n",
       "    <tr>\n",
       "      <th>2</th>\n",
       "      <td>13.50</td>\n",
       "      <td>12.75</td>\n",
       "      <td>13.51</td>\n",
       "      <td>13.75</td>\n",
       "      <td>14.00</td>\n",
       "      <td>12.25</td>\n",
       "    </tr>\n",
       "    <tr>\n",
       "      <th>3</th>\n",
       "      <td>13.50</td>\n",
       "      <td>12.50</td>\n",
       "      <td>13.50</td>\n",
       "      <td>13.59</td>\n",
       "      <td>13.90</td>\n",
       "      <td>12.00</td>\n",
       "    </tr>\n",
       "    <tr>\n",
       "      <th>4</th>\n",
       "      <td>13.00</td>\n",
       "      <td>12.50</td>\n",
       "      <td>13.50</td>\n",
       "      <td>13.25</td>\n",
       "      <td>13.75</td>\n",
       "      <td>12.00</td>\n",
       "    </tr>\n",
       "    <tr>\n",
       "      <th>5</th>\n",
       "      <td>13.00</td>\n",
       "      <td>12.40</td>\n",
       "      <td>13.25</td>\n",
       "      <td>12.97</td>\n",
       "      <td>13.25</td>\n",
       "      <td>12.00</td>\n",
       "    </tr>\n",
       "    <tr>\n",
       "      <th>6</th>\n",
       "      <td>13.00</td>\n",
       "      <td>12.30</td>\n",
       "      <td>13.00</td>\n",
       "      <td>12.50</td>\n",
       "      <td>13.00</td>\n",
       "      <td>12.00</td>\n",
       "    </tr>\n",
       "    <tr>\n",
       "      <th>7</th>\n",
       "      <td>12.75</td>\n",
       "      <td>11.90</td>\n",
       "      <td>12.50</td>\n",
       "      <td>12.25</td>\n",
       "      <td>12.50</td>\n",
       "      <td>11.90</td>\n",
       "    </tr>\n",
       "    <tr>\n",
       "      <th>8</th>\n",
       "      <td>12.50</td>\n",
       "      <td>11.90</td>\n",
       "      <td>12.50</td>\n",
       "      <td>11.89</td>\n",
       "      <td>12.45</td>\n",
       "      <td>11.90</td>\n",
       "    </tr>\n",
       "  </tbody>\n",
       "</table>\n",
       "</div>"
      ],
      "text/plain": [
       "   Atlanta  Chicago  Houston  Memphis  New York  Philadelphia\n",
       "0    13.75    14.25    14.00    15.00     14.50         13.50\n",
       "1    13.75    13.00    14.00    14.00     14.00         12.25\n",
       "2    13.50    12.75    13.51    13.75     14.00         12.25\n",
       "3    13.50    12.50    13.50    13.59     13.90         12.00\n",
       "4    13.00    12.50    13.50    13.25     13.75         12.00\n",
       "5    13.00    12.40    13.25    12.97     13.25         12.00\n",
       "6    13.00    12.30    13.00    12.50     13.00         12.00\n",
       "7    12.75    11.90    12.50    12.25     12.50         11.90\n",
       "8    12.50    11.90    12.50    11.89     12.45         11.90"
      ]
     },
     "execution_count": 3,
     "metadata": {},
     "output_type": "execute_result"
    }
   ],
   "source": [
    "rate"
   ]
  },
  {
   "cell_type": "code",
   "execution_count": 4,
   "metadata": {},
   "outputs": [
    {
     "data": {
      "text/html": [
       "<div>\n",
       "<style scoped>\n",
       "    .dataframe tbody tr th:only-of-type {\n",
       "        vertical-align: middle;\n",
       "    }\n",
       "\n",
       "    .dataframe tbody tr th {\n",
       "        vertical-align: top;\n",
       "    }\n",
       "\n",
       "    .dataframe thead th {\n",
       "        text-align: right;\n",
       "    }\n",
       "</style>\n",
       "<table border=\"1\" class=\"dataframe\">\n",
       "  <thead>\n",
       "    <tr style=\"text-align: right;\">\n",
       "      <th></th>\n",
       "      <th>Atlanta</th>\n",
       "      <th>Chicago</th>\n",
       "      <th>Houston</th>\n",
       "      <th>Memphis</th>\n",
       "      <th>New York</th>\n",
       "      <th>Philadelphia</th>\n",
       "    </tr>\n",
       "  </thead>\n",
       "  <tbody>\n",
       "    <tr>\n",
       "      <th>count</th>\n",
       "      <td>9.000000</td>\n",
       "      <td>9.000000</td>\n",
       "      <td>9.000000</td>\n",
       "      <td>9.000000</td>\n",
       "      <td>9.000000</td>\n",
       "      <td>9.000000</td>\n",
       "    </tr>\n",
       "    <tr>\n",
       "      <th>mean</th>\n",
       "      <td>13.194444</td>\n",
       "      <td>12.611111</td>\n",
       "      <td>13.306667</td>\n",
       "      <td>13.244444</td>\n",
       "      <td>13.483333</td>\n",
       "      <td>12.200000</td>\n",
       "    </tr>\n",
       "    <tr>\n",
       "      <th>std</th>\n",
       "      <td>0.446825</td>\n",
       "      <td>0.710096</td>\n",
       "      <td>0.556350</td>\n",
       "      <td>0.967007</td>\n",
       "      <td>0.718940</td>\n",
       "      <td>0.504356</td>\n",
       "    </tr>\n",
       "    <tr>\n",
       "      <th>min</th>\n",
       "      <td>12.500000</td>\n",
       "      <td>11.900000</td>\n",
       "      <td>12.500000</td>\n",
       "      <td>11.890000</td>\n",
       "      <td>12.450000</td>\n",
       "      <td>11.900000</td>\n",
       "    </tr>\n",
       "    <tr>\n",
       "      <th>25%</th>\n",
       "      <td>13.000000</td>\n",
       "      <td>12.300000</td>\n",
       "      <td>13.000000</td>\n",
       "      <td>12.500000</td>\n",
       "      <td>13.000000</td>\n",
       "      <td>12.000000</td>\n",
       "    </tr>\n",
       "    <tr>\n",
       "      <th>50%</th>\n",
       "      <td>13.000000</td>\n",
       "      <td>12.500000</td>\n",
       "      <td>13.500000</td>\n",
       "      <td>13.250000</td>\n",
       "      <td>13.750000</td>\n",
       "      <td>12.000000</td>\n",
       "    </tr>\n",
       "    <tr>\n",
       "      <th>75%</th>\n",
       "      <td>13.500000</td>\n",
       "      <td>12.750000</td>\n",
       "      <td>13.510000</td>\n",
       "      <td>13.750000</td>\n",
       "      <td>14.000000</td>\n",
       "      <td>12.250000</td>\n",
       "    </tr>\n",
       "    <tr>\n",
       "      <th>max</th>\n",
       "      <td>13.750000</td>\n",
       "      <td>14.250000</td>\n",
       "      <td>14.000000</td>\n",
       "      <td>15.000000</td>\n",
       "      <td>14.500000</td>\n",
       "      <td>13.500000</td>\n",
       "    </tr>\n",
       "  </tbody>\n",
       "</table>\n",
       "</div>"
      ],
      "text/plain": [
       "         Atlanta    Chicago    Houston    Memphis   New York  Philadelphia\n",
       "count   9.000000   9.000000   9.000000   9.000000   9.000000      9.000000\n",
       "mean   13.194444  12.611111  13.306667  13.244444  13.483333     12.200000\n",
       "std     0.446825   0.710096   0.556350   0.967007   0.718940      0.504356\n",
       "min    12.500000  11.900000  12.500000  11.890000  12.450000     11.900000\n",
       "25%    13.000000  12.300000  13.000000  12.500000  13.000000     12.000000\n",
       "50%    13.000000  12.500000  13.500000  13.250000  13.750000     12.000000\n",
       "75%    13.500000  12.750000  13.510000  13.750000  14.000000     12.250000\n",
       "max    13.750000  14.250000  14.000000  15.000000  14.500000     13.500000"
      ]
     },
     "execution_count": 4,
     "metadata": {},
     "output_type": "execute_result"
    }
   ],
   "source": [
    "rate.describe()"
   ]
  },
  {
   "cell_type": "code",
   "execution_count": 5,
   "metadata": {},
   "outputs": [
    {
     "data": {
      "image/png": "[encoded data removed]",
      "text/plain": [
       "<Figure size 576x432 with 1 Axes>"
      ]
     },
     "metadata": {
      "needs_background": "light"
     },
     "output_type": "display_data"
    }
   ],
   "source": [
    "plt.figure(figsize=(8,6))\n",
    "for i in rate.columns:\n",
    "    rate[i].plot(kind='kde')\n",
    "    plt.legend()\n",
    "    plt.grid()\n",
    "plt.show()"
   ]
  },
  {
   "cell_type": "code",
   "execution_count": 6,
   "metadata": {},
   "outputs": [],
   "source": [
    "rate_melt=rate.melt(var_name='city') # using melt will reshape the dataframe and make it suitable for ols model"
   ]
  },
  {
   "cell_type": "markdown",
   "metadata": {},
   "source": [
    "# 1. Postulate the Null and Alternate Hypothesis"
   ]
  },
  {
   "cell_type": "markdown",
   "metadata": {},
   "source": [
    "$H_0$: The mean interest rate in all six american cities is same\n",
    "\n",
    "$H_1$: The mean interest rate is different in atleast one of the six american cities\n",
    "\n"
   ]
  },
  {
   "cell_type": "markdown",
   "metadata": {},
   "source": [
    "### for additional understanding "
   ]
  },
  {
   "cell_type": "code",
   "execution_count": 7,
   "metadata": {},
   "outputs": [
    {
     "data": {
      "text/plain": [
       "(9, 6)"
      ]
     },
     "execution_count": 7,
     "metadata": {},
     "output_type": "execute_result"
    }
   ],
   "source": [
    "rate.shape"
   ]
  },
  {
   "cell_type": "code",
   "execution_count": 8,
   "metadata": {},
   "outputs": [],
   "source": [
    "n=rate.shape[0]*rate.shape[1] #total no of observations\n",
    "k=rate.shape[1] #no of groups"
   ]
  },
  {
   "cell_type": "code",
   "execution_count": 9,
   "metadata": {},
   "outputs": [
    {
     "name": "stdout",
     "output_type": "stream",
     "text": [
      "Degree of Freedom between groups 5\n",
      "Degree of Freedom within groups 48\n"
     ]
    }
   ],
   "source": [
    "#Degree of freedom between groups\n",
    "dfb=k-1\n",
    "print('Degree of Freedom between groups',dfb)\n",
    "#Degree of freedom within groups\n",
    "dfw=n-k\n",
    "print('Degree of Freedom within groups',dfw)"
   ]
  },
  {
   "cell_type": "markdown",
   "metadata": {},
   "source": [
    "# 2. Perform the analysis of variances test on the dataset"
   ]
  },
  {
   "cell_type": "code",
   "execution_count": 10,
   "metadata": {},
   "outputs": [],
   "source": [
    "from statsmodels.formula.api import ols      # For n-way ANOVA\n",
    "from statsmodels.stats.anova import _get_covariance,anova_lm # For n-way ANOVA"
   ]
  },
  {
   "cell_type": "code",
   "execution_count": 11,
   "metadata": {},
   "outputs": [
    {
     "name": "stdout",
     "output_type": "stream",
     "text": [
      "            df     sum_sq   mean_sq         F    PR(>F)\n",
      "city       5.0  10.945667  2.189133  4.829385  0.001175\n",
      "Residual  48.0  21.758133  0.453294       NaN       NaN\n"
     ]
    }
   ],
   "source": [
    "formula = 'value~city'\n",
    "model = ols(formula, rate_melt).fit()\n",
    "aov_table = anova_lm(model)\n",
    "print(aov_table)"
   ]
  },
  {
   "cell_type": "markdown",
   "metadata": {},
   "source": [
    "# 3. What are sum of squared variance within and sum of squared variance between?"
   ]
  },
  {
   "cell_type": "markdown",
   "metadata": {},
   "source": [
    "`Sum of Squared variance within`  is the sum over the sums of squared deviations of scores around their group’s mean\n",
    "\n",
    "\n",
    "`Sum of Squared variance between` is the sum of squared deviation of the group means from the grand mean\n",
    "\n",
    "\n",
    "\n",
    "\n",
    "\n"
   ]
  },
  {
   "cell_type": "markdown",
   "metadata": {},
   "source": [
    "# 4. Calculate sum of squared total for above"
   ]
  },
  {
   "cell_type": "markdown",
   "metadata": {},
   "source": [
    "${SST = SSB + SSW}$"
   ]
  },
  {
   "cell_type": "code",
   "execution_count": 12,
   "metadata": {},
   "outputs": [
    {
     "data": {
      "text/plain": [
       "city        10.945667\n",
       "Residual    21.758133\n",
       "Name: sum_sq, dtype: float64"
      ]
     },
     "execution_count": 12,
     "metadata": {},
     "output_type": "execute_result"
    }
   ],
   "source": [
    "aov_table['sum_sq']"
   ]
  },
  {
   "cell_type": "code",
   "execution_count": 18,
   "metadata": {},
   "outputs": [
    {
     "name": "stdout",
     "output_type": "stream",
     "text": [
      "Sum of Squared Total 32.703799999999966\n"
     ]
    }
   ],
   "source": [
    "SSW=aov_table['sum_sq'][1]\n",
    "SSB=aov_table['sum_sq'][0]\n",
    "SST= SSW+SSB\n",
    "print('Sum of Squared Total',SST)"
   ]
  },
  {
   "cell_type": "markdown",
   "metadata": {},
   "source": [
    "# 5. What is the significance of F dist/statistic?"
   ]
  },
  {
   "cell_type": "markdown",
   "metadata": {},
   "source": [
    "`F-Distribution or F-Statistic is the ratio of MSB to MSW. `\n",
    "\n",
    "It gives the degree of how relatively greater the difference is 'between group means' (MSB) compared to 'within group variance' (MSW)\n",
    "\n",
    "If the ratio is greater than expected will mean that not all the group means are the same and at least one mean is substantially different.\n",
    "\n"
   ]
  },
  {
   "cell_type": "markdown",
   "metadata": {},
   "source": [
    "# 6. Interpret the results and present the conclusion"
   ]
  },
  {
   "cell_type": "markdown",
   "metadata": {},
   "source": [
    "`pvalue`=0.001174551414504048 is smaller than the level of significance $\\alpha$ 0.05\n",
    "\n",
    "`The null hypothesis is rejected based on the above observation and it is concluded that the mean interest rate is not same across all six american cities`"
   ]
  }
 ],
 "metadata": {
  "kernelspec": {
   "display_name": "Python 3",
   "language": "python",
   "name": "python3"
  },
  "language_info": {
   "codemirror_mode": {
    "name": "ipython",
    "version": 3
   },
   "file_extension": ".py",
   "mimetype": "text/x-python",
   "name": "python",
   "nbconvert_exporter": "python",
   "pygments_lexer": "ipython3",
   "version": "3.8.5"
  }
 },
 "nbformat": 4,
 "nbformat_minor": 2
}
